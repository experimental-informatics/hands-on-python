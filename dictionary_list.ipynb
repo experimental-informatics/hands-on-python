{
 "cells": [
  {
   "cell_type": "markdown",
   "metadata": {},
   "source": [
    "# Dictionary & List (Data Structures)\n",
    "\n",
    "Data Structure is how we organize, manage and store data in formats that enables efficient access and modification of datas\n",
    "\n",
    "There are several types of data structures used in computer languages (`Array`, `Stack`, `Queue`, `Tree`, `Object` and so on)\n",
    "\n",
    "Some of them are interchangable, and language specific. \n",
    "\n",
    "![](https://img-blog.csdnimg.cn/20190910131153958.jpg) a example of data structre `Stack`\n",
    "\n",
    "\n",
    "\n",
    "Here we focus on `List` and `Dictionary` that are commonly used in Python.\n",
    "\n",
    "*Some concept of `List` is interchangable as `Array` in other programming language. It's worth noting that `List` in Python allow you to store different datatypes at once*\n",
    "\n",
    "To initualize a `List`, we use []"
   ]
  },
  {
   "cell_type": "code",
   "execution_count": 1,
   "metadata": {},
   "outputs": [
    {
     "name": "stdout",
     "output_type": "stream",
     "text": [
      "['a', '!', 0.13, 1]\n"
     ]
    }
   ],
   "source": [
    "sequence_list = ['a','!',0.13,1]\n",
    "print(sequence_list)"
   ]
  },
  {
   "cell_type": "markdown",
   "metadata": {},
   "source": [
    "<img src=\"https://imgur.com/ljqtx7F.png\" width=\"500\">\n",
    "\n",
    "List is also able to add or delete new element inside\n",
    "\n",
    "`append` Add new element to the end of the list\n",
    "\n",
    "`remove` Remove the first item from the list, which value is equal to 'x'\n",
    "\n",
    "`insert` Add item into specific index\n",
    "\n",
    "`pop` Remove element from specific index\n",
    "\n",
    "`del` Delete certain elements in list"
   ]
  },
  {
   "cell_type": "code",
   "execution_count": 2,
   "metadata": {},
   "outputs": [
    {
     "name": "stdout",
     "output_type": "stream",
     "text": [
      "['a', 'p', 'p', 'l']\n",
      "['a', 'p', 'p', 'l', 'e']\n",
      "['a', 'p', 'l', 'e']\n",
      "['a', 'p', 'x', 'l', 'e']\n",
      "['a', 'x', 'l', 'e']\n",
      "['a', 'e']\n"
     ]
    }
   ],
   "source": [
    "sequence_list = ['a','p','p','l']\n",
    "print(sequence_list)\n",
    "\n",
    "sequence_list.append('e')\n",
    "print(sequence_list)\n",
    "\n",
    "sequence_list.remove('p')\n",
    "print(sequence_list)\n",
    "\n",
    "sequence_list.insert(2, 'x')\n",
    "print(sequence_list)\n",
    "\n",
    "sequence_list.pop(1)\n",
    "print(sequence_list)\n",
    "\n",
    "#notice the way of using it\n",
    "del sequence_list[1:3]\n",
    "print(sequence_list)"
   ]
  },
  {
   "cell_type": "markdown",
   "metadata": {},
   "source": [
    "we can also sort or reverse it"
   ]
  },
  {
   "cell_type": "code",
   "execution_count": 3,
   "metadata": {},
   "outputs": [
    {
     "name": "stdout",
     "output_type": "stream",
     "text": [
      "['This', 'is', 'an', 'example', 'of', 'words', 'in', 'list']\n",
      "['words', 'of', 'list', 'is', 'in', 'example', 'an', 'This']\n",
      "['This', 'an', 'example', 'in', 'is', 'list', 'of', 'words']\n",
      "['in', 'This', 'example', 'is', 'list', 'of', 'an', 'words']\n"
     ]
    }
   ],
   "source": [
    "text = ['This','is','an','example','of','words','in','list']\n",
    "print(text)\n",
    "\n",
    "text.sort(reverse=True)\n",
    "print(text)\n",
    "\n",
    "text.sort()\n",
    "print(text)\n",
    "\n",
    "import random # import the random library\n",
    "random.shuffle(text)\n",
    "print(text)"
   ]
  },
  {
   "cell_type": "markdown",
   "metadata": {},
   "source": [
    "## Preprocess Text to List\n",
    "\n",
    "After understanding how `list` works, we can try to preprocess our text into `list`"
   ]
  },
  {
   "cell_type": "code",
   "execution_count": 4,
   "metadata": {},
   "outputs": [
    {
     "name": "stdout",
     "output_type": "stream",
     "text": [
      "['\\nIf', 'the', \"weather's\", 'nice,', \"\\nwe'll\", 'meet', 'at', '13?\\n']\n",
      "['', 'If', 'the', 'weather', 'is', 'nice', ',', '', '', 'we', 'will', 'meet', 'at', '', '?', '', '']\n",
      "['If', 'the', 'weather', 'is', 'nice', ',', 'we', 'will', 'meet', 'at', '?']\n"
     ]
    }
   ],
   "source": [
    "text = '''\n",
    "If the weather's nice, \n",
    "we'll meet at 13?\n",
    "'''\n",
    "\n",
    "temp_text = text.split(' ')\n",
    "print(temp_text)\n",
    "\n",
    "#replacing characters\n",
    "text = text.replace(\"'s\",\" is\").replace(\"'ll\",\" will\")\n",
    "\n",
    "#removing numbers\n",
    "remove_digits = str.maketrans('', '','0123456789')\n",
    "text = text.translate(remove_digits)\n",
    "\n",
    "#replcaing line breaks and tab\n",
    "text = text.replace('\\n',' ').replace('\\t',' ').replace('“', ' \" ').replace('”', ' \" ')\n",
    "\n",
    "#leave punctuation in \n",
    "for punctuation in ['.','-',',','!','?','(','—',')']:\n",
    "    text = text.replace(punctuation, ' {0} '.format(punctuation))\n",
    "\n",
    "#split it!\n",
    "text_list = text.split(' ')\n",
    "print(text_list)\n",
    "\n",
    "\n",
    "#get rid of blanks\n",
    "text_list= [word for word in text_list if word != '']\n",
    "print(text_list)"
   ]
  },
  {
   "cell_type": "markdown",
   "metadata": {},
   "source": [
    "# Dictionary\n",
    "\n",
    "`Dictionary` is a special data type used in python.\n",
    "\n",
    "<img src=\"https://imgur.com/kM3nFy0.png\" width=\"500\"> example of dictionary\n",
    "\n",
    "It works similar as `Structure` in other Low-level programming langauge or a simplier version of `Object`\n",
    "\n",
    "The core concept of dictionary is `key`, it's same as `index` in `List`, but allows you to not only use `int` as format\n",
    "\n",
    "Just need to remember, with every `key` comes a `value`\n",
    "\n",
    "To initualize a dictionary, we use **{}**. But to access it, we use **[]**"
   ]
  },
  {
   "cell_type": "code",
   "execution_count": 5,
   "metadata": {},
   "outputs": [
    {
     "name": "stdout",
     "output_type": "stream",
     "text": [
      "10\n"
     ]
    }
   ],
   "source": [
    "dic = {'apple':10,'milk':20,'egg':100}\n",
    "print(dic['apple'])"
   ]
  },
  {
   "cell_type": "markdown",
   "metadata": {},
   "source": [
    "not only can the index(key) be `string`, so does the value inside."
   ]
  },
  {
   "cell_type": "code",
   "execution_count": 6,
   "metadata": {},
   "outputs": [
    {
     "name": "stdout",
     "output_type": "stream",
     "text": [
      "ten\n"
     ]
    }
   ],
   "source": [
    "dic = {'apple':'ten','milk':20,'egg':'unknown'}\n",
    "print(dic['apple'])"
   ]
  },
  {
   "cell_type": "markdown",
   "metadata": {},
   "source": [
    "### Loops in Dictionary\n",
    "\n",
    "we could also run loops in dictionary."
   ]
  },
  {
   "cell_type": "code",
   "execution_count": 7,
   "metadata": {},
   "outputs": [
    {
     "name": "stdout",
     "output_type": "stream",
     "text": [
      "a 100\n",
      "b 30\n",
      "c unknown\n"
     ]
    }
   ],
   "source": [
    "dic = {'a':100,'b':30,'c':'unknown'}\n",
    "for index,value in dic.items():\n",
    "    print (index,value)"
   ]
  },
  {
   "cell_type": "markdown",
   "metadata": {},
   "source": [
    "### Keys \n",
    "\n",
    "to access keys in dictionary, we use the function `keys()`\n",
    "\n",
    "**Keep in mind that directly loop with dictionary will only show it's `key`**"
   ]
  },
  {
   "cell_type": "code",
   "execution_count": 8,
   "metadata": {},
   "outputs": [
    {
     "name": "stdout",
     "output_type": "stream",
     "text": [
      "dict_keys(['a', 'b', 'c'])\n",
      "a\n",
      "b\n",
      "c\n"
     ]
    }
   ],
   "source": [
    "dic = {'a':100,'b':30,'c':'unknown'}\n",
    "print(dic.keys())\n",
    "\n",
    "for c in dic:\n",
    "    print(c)\n"
   ]
  },
  {
   "cell_type": "markdown",
   "metadata": {},
   "source": [
    "Since we know how to use `keys()` now, it's also possible to loop with `keys()`\n",
    "\n",
    "This will allow us to go through the dictionary and access the values inside"
   ]
  },
  {
   "cell_type": "code",
   "execution_count": 9,
   "metadata": {},
   "outputs": [
    {
     "name": "stdout",
     "output_type": "stream",
     "text": [
      "100\n",
      "30\n",
      "unknown\n",
      "apple\n"
     ]
    }
   ],
   "source": [
    "dic = {'a':100,'b':30,'c':'unknown', 'd':'apple'}\n",
    "\n",
    "for key in dic.keys():\n",
    "    print(dic[key])"
   ]
  },
  {
   "cell_type": "markdown",
   "metadata": {},
   "source": [
    "We can also check whether a `key` is inside our dictionary"
   ]
  },
  {
   "cell_type": "code",
   "execution_count": 10,
   "metadata": {},
   "outputs": [
    {
     "name": "stdout",
     "output_type": "stream",
     "text": [
      "there is no e\n"
     ]
    }
   ],
   "source": [
    "dic = {'a':100,'b':30,'c':'unknown', 'd':'apple'}\n",
    "\n",
    "if 'e' not in dic:\n",
    "    print('there is no e')"
   ]
  },
  {
   "cell_type": "markdown",
   "metadata": {},
   "source": [
    "### Calculating the probability of a character"
   ]
  },
  {
   "cell_type": "code",
   "execution_count": 11,
   "metadata": {},
   "outputs": [
    {
     "name": "stdout",
     "output_type": "stream",
     "text": [
      "R 1 0.029411764705882353\n",
      "o 4 0.11764705882352941\n",
      "s 7 0.20588235294117646\n",
      "e 4 0.11764705882352941\n",
      "  9 0.2647058823529412\n",
      "i 3 0.08823529411764706\n",
      "a 3 0.08823529411764706\n",
      "r 3 0.08823529411764706\n",
      "\n",
      "0.10%\n",
      "\n",
      "R 1 2.94%\n",
      "o 4 11.76%\n",
      "s 7 20.59%\n",
      "e 4 11.76%\n",
      "  9 26.47%\n",
      "i 3 8.82%\n",
      "a 3 8.82%\n",
      "r 3 8.82%\n"
     ]
    }
   ],
   "source": [
    "text = '''Rose is a rose is a rose is a rose'''\n",
    "\n",
    "dic = {}\n",
    "for c in text:\n",
    "    if c not in dic.keys():\n",
    "        dic[c] =1\n",
    "    else:\n",
    "        dic[c] +=1\n",
    "        \n",
    "for index,value in dic.items():\n",
    "    print (index,value,value/len(text))\n",
    "    \n",
    "print()\n",
    "    \n",
    "#we could format the number as percentage with the following line\n",
    "print(\"{:.2%}\".format(0.001))\n",
    "\n",
    "#so the correct way will be\n",
    "\n",
    "print()\n",
    "for index,value in dic.items():\n",
    "    print (index,value,\"{:.2%}\".format(value/len(text)))\n",
    "    "
   ]
  },
  {
   "cell_type": "markdown",
   "metadata": {},
   "source": [
    "### Calculating the probability of a words"
   ]
  },
  {
   "cell_type": "code",
   "execution_count": 16,
   "metadata": {},
   "outputs": [
    {
     "name": "stdout",
     "output_type": "stream",
     "text": [
      "Rose 1 10.00%\n",
      "is 3 30.00%\n",
      "a 3 30.00%\n",
      "rose 3 30.00%\n"
     ]
    }
   ],
   "source": [
    "text = '''Rose is a rose is a rose is a rose'''\n",
    "\n",
    "\n",
    "#add one line here to caculate words instead of characters. \n",
    "\n",
    "#\n",
    "\n",
    "dic = {}\n",
    "for c in text:\n",
    "    if c not in dic.keys():\n",
    "        dic[c] =1\n",
    "    else:\n",
    "        dic[c] +=1\n",
    "        \n",
    "for index,value in dic.items():\n",
    "    print (index,value,\"{:.2%}\".format(value/len(text)))\n",
    "    "
   ]
  }
 ],
 "metadata": {
  "kernelspec": {
   "display_name": "Python 3",
   "language": "python",
   "name": "python3"
  },
  "language_info": {
   "codemirror_mode": {
    "name": "ipython",
    "version": 3
   },
   "file_extension": ".py",
   "mimetype": "text/x-python",
   "name": "python",
   "nbconvert_exporter": "python",
   "pygments_lexer": "ipython3",
   "version": "3.8.3"
  }
 },
 "nbformat": 4,
 "nbformat_minor": 4
}
